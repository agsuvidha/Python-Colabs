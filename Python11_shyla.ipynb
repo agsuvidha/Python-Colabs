{
  "nbformat": 4,
  "nbformat_minor": 0,
  "metadata": {
    "colab": {
      "provenance": [],
      "authorship_tag": "ABX9TyNS1a1MyFdbthdZhHxlWo77",
      "include_colab_link": true
    },
    "kernelspec": {
      "name": "python3",
      "display_name": "Python 3"
    },
    "language_info": {
      "name": "python"
    }
  },
  "cells": [
    {
      "cell_type": "markdown",
      "metadata": {
        "id": "view-in-github",
        "colab_type": "text"
      },
      "source": [
        "<a href=\"https://colab.research.google.com/github/agsuvidha/Python-Colabs/blob/main/Python11_shyla.ipynb\" target=\"_parent\"><img src=\"https://colab.research.google.com/assets/colab-badge.svg\" alt=\"Open In Colab\"/></a>"
      ]
    },
    {
      "cell_type": "markdown",
      "source": [
        "In MATLAB, there is a handy function called reshape which can reshape an m x n matrix into a\n",
        "new one with a different size r x c keeping its original data.\n",
        "You are given an m x n matrix mat and two integers r and c representing the number of rows and the\n",
        "number of columns of the wanted reshaped matrix.\n",
        "The reshaped matrix should be filled with all the elements of the original matrix in the same rowtraversing order as they were.\n",
        "If the reshape operation with given parameters is possible and legal, output the new reshaped matrix;\n",
        "Otherwise, output the original matrix."
      ],
      "metadata": {
        "id": "8MNzX9CwWDCI"
      }
    },
    {
      "cell_type": "code",
      "execution_count": 5,
      "metadata": {
        "colab": {
          "base_uri": "https://localhost:8080/"
        },
        "id": "h8vnNV-cU_X2",
        "outputId": "5fb38f0a-1be0-4fe9-8edc-0becb1bd6fa6"
      },
      "outputs": [
        {
          "output_type": "execute_result",
          "data": {
            "text/plain": [
              "(16, 2)"
            ]
          },
          "metadata": {},
          "execution_count": 5
        }
      ],
      "source": [
        "import numpy as np\n",
        "mat = np.c_[np.arange(1,17), np.arange(17,33)]\n",
        "mat.shape\n"
      ]
    },
    {
      "cell_type": "code",
      "source": [
        "r=input(\"enter the new row\");\n",
        "c=input(\"enter the new column\");\n",
        "\n",
        "s = np.reshape(mat, (int(r),int(c)))\n",
        "s.shape\n"
      ],
      "metadata": {
        "colab": {
          "base_uri": "https://localhost:8080/"
        },
        "id": "-koUm_paVF_h",
        "outputId": "25058d7a-df2b-4879-b69e-21428cd513dc"
      },
      "execution_count": 7,
      "outputs": [
        {
          "name": "stdout",
          "output_type": "stream",
          "text": [
            "enter the new row2\n",
            "enter the new column16\n"
          ]
        },
        {
          "output_type": "execute_result",
          "data": {
            "text/plain": [
              "(2, 16)"
            ]
          },
          "metadata": {},
          "execution_count": 7
        }
      ]
    }
  ]
}